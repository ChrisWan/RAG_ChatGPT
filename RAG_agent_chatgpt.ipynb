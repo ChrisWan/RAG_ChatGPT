{
  "nbformat": 4,
  "nbformat_minor": 0,
  "metadata": {
    "colab": {
      "provenance": [],
      "gpuType": "T4"
    },
    "kernelspec": {
      "name": "python3",
      "display_name": "Python 3"
    },
    "language_info": {
      "name": "python"
    },
    "accelerator": "GPU"
  },
  "cells": [
    {
      "cell_type": "code",
      "source": [
        "!pip install pypdf langchain sentence-transformers openai transformers chromadb tiktoken"
      ],
      "metadata": {
        "id": "50FXAb0n7X4W"
      },
      "execution_count": null,
      "outputs": []
    },
    {
      "cell_type": "code",
      "execution_count": null,
      "metadata": {
        "id": "mXsPYtPpnR50"
      },
      "outputs": [],
      "source": [
        "# Step 1:\n",
        "#from langchain.document_loaders import TextLoader # for text files\n",
        "from langchain.document_loaders import PyPDFLoader\n",
        "from langchain.text_splitter import RecursiveCharacterTextSplitter\n",
        "from langchain.embeddings import SentenceTransformerEmbeddings\n",
        "from langchain.vectorstores import Chroma\n",
        "# Step 2:\n",
        "from langchain.chat_models import ChatOpenAI\n",
        "from langchain.agents.agent_toolkits import create_retriever_tool\n",
        "from langchain.tools import Tool\n",
        "# Step 3:\n",
        "from langchain.agents.openai_functions_agent.agent_token_buffer_memory import AgentTokenBufferMemory\n",
        "from langchain.agents.openai_functions_agent.base import OpenAIFunctionsAgent\n",
        "from langchain.prompts import MessagesPlaceholder\n",
        "from langchain_core.messages import SystemMessage\n",
        "# Step 4:\n",
        "from langchain.agents import AgentExecutor"
      ]
    },
    {
      "cell_type": "markdown",
      "source": [
        "# Step 0:\n",
        "Set some hyperparameters for preprocessing and models later:"
      ],
      "metadata": {
        "id": "EkJI8OUq5R4_"
      }
    },
    {
      "cell_type": "code",
      "source": [
        "import os\n",
        "# Step 1\n",
        "chunk_size = 256\n",
        "chunk_overlap = 20\n",
        "embedding_model = \"sentence-transformers/paraphrase-multilingual-mpnet-base-v2\"\n",
        "k_retriever = 5\n",
        "# Step 2\n",
        "os.environ[\"OPENAI_API_KEY\"] = \"\""
      ],
      "metadata": {
        "id": "LGx-UL6Y5MWI"
      },
      "execution_count": null,
      "outputs": []
    },
    {
      "cell_type": "markdown",
      "source": [
        "# Step 1:\n",
        "Read the documents and save them to a temporary chroma database."
      ],
      "metadata": {
        "id": "rpsaC5sRYk0e"
      }
    },
    {
      "cell_type": "code",
      "source": [
        "def preprocess_documents_return_retriever():\n",
        "  # get pdfs\n",
        "  report_path = \"Beispieltext.pdf\"\n",
        "  loader = PyPDFLoader(report_path)\n",
        "  documents = loader.load()\n",
        "  # it is possible to add different loaders - e.g. web-scraping etc.\n",
        "\n",
        "  text_splitter = RecursiveCharacterTextSplitter(chunk_size=chunk_size, chunk_overlap=chunk_overlap)\n",
        "  docs = text_splitter.split_documents(documents)\n",
        "\n",
        "  # load embedding model from disk\n",
        "  embeddings = SentenceTransformerEmbeddings(model_name=embedding_model,  model_kwargs = {'device': 'cuda'})\n",
        "\n",
        "  # create embeddings in chroma\n",
        "  db = Chroma.from_documents(docs, embeddings)\n",
        "\n",
        "  # create retriever to retrieve most relevant documents from chroma store and return it\n",
        "  retriever = db.as_retriever(k=k_retriever)\n",
        "  return retriever"
      ],
      "metadata": {
        "id": "rqiFqTMrYJwJ"
      },
      "execution_count": null,
      "outputs": []
    },
    {
      "cell_type": "markdown",
      "source": [
        "# Step 2:\n",
        "Initialize chat model (ChatGPT) and create retriever tool."
      ],
      "metadata": {
        "id": "zB5tdyOy7hXt"
      }
    },
    {
      "cell_type": "code",
      "source": [
        "def initialize_and_return_chatgpt_plus_tools(retriever):\n",
        "  chat_model = ChatOpenAI(temperature=0, model=\"gpt-3.5-turbo-1106\")\n",
        "\n",
        "  # use retriever from step 1\n",
        "  retrieve_tool = create_retriever_tool(retriever=retriever, name=\"bekomm_zusatzinformation\", description=\"nützlich um zusätzliche Information zu Raiffeisen, Wien, Linz und Falco zu bekommen.\")\n",
        "\n",
        "  tools = [retrieve_tool]\n",
        "  return chat_model, tools"
      ],
      "metadata": {
        "id": "_B2tjqxm7skX"
      },
      "execution_count": null,
      "outputs": []
    },
    {
      "cell_type": "markdown",
      "source": [
        "# Step 3:\n",
        "Create components for RAG agent. Following components are necessary:\n",
        "*   The memory\n",
        "*   The prompt template\n",
        "*   The agent\n",
        "*   The agent executor"
      ],
      "metadata": {
        "id": "bJsiKW6Q-DjJ"
      }
    },
    {
      "cell_type": "code",
      "source": [
        "def create_components_and_return_agent_and_memory(llm, tools):\n",
        "  # this is needed for both the memory and the prompt\n",
        "  memory_key = \"history\"\n",
        "\n",
        "  memory = AgentTokenBufferMemory(memory_key=memory_key, llm=llm)\n",
        "\n",
        "  # changed to German\n",
        "  system_message = SystemMessage(\n",
        "    content=(\n",
        "        \"Sei immer höflich und beantworte die Fragen mit bestem Gewissen. \"\n",
        "        \"Wenn du die Antwort nicht weißt, antworte mit 'Ich weiß die Antwort zu deiner Frage leider nicht.' \"\n",
        "        \"Versuche die Frage erst mit deinem eigenen Wissen zu beantworten. Wenn du die Antwort so nicht weißt, dann erst benutze ein Tool um die relevanten Informationen zu bekommen.\"\n",
        "    )\n",
        "  )\n",
        "  # put together the prompt for ChatGPT\n",
        "  prompt = OpenAIFunctionsAgent.create_prompt(\n",
        "    system_message=system_message,\n",
        "    extra_prompt_messages=[MessagesPlaceholder(variable_name=memory_key)],\n",
        "  )\n",
        "\n",
        "  agent = OpenAIFunctionsAgent(llm=llm, tools=tools, prompt=prompt)\n",
        "  return agent, memory"
      ],
      "metadata": {
        "id": "QRluroXc_Z3d"
      },
      "execution_count": null,
      "outputs": []
    },
    {
      "cell_type": "markdown",
      "source": [
        "# Step 4:\n",
        "Initialize agent executor.\n"
      ],
      "metadata": {
        "id": "EX8CuNVrCa8W"
      }
    },
    {
      "cell_type": "code",
      "source": [
        "def create_and_return_agent_executor(agent, tools, memory):\n",
        "  agent_executor = AgentExecutor(\n",
        "    agent=agent,\n",
        "    tools=tools,\n",
        "    memory=memory,\n",
        "    verbose=True,\n",
        "    return_intermediate_steps=True,\n",
        "  )\n",
        "  return agent_executor"
      ],
      "metadata": {
        "id": "4YGfzWl2Cv96"
      },
      "execution_count": null,
      "outputs": []
    },
    {
      "cell_type": "markdown",
      "source": [
        "# Step 5:\n",
        "try out agent"
      ],
      "metadata": {
        "id": "VyB4do2mElm7"
      }
    },
    {
      "cell_type": "code",
      "source": [
        "retriever = preprocess_documents_return_retriever()\n",
        "\n",
        "chat_model, tools = initialize_and_return_chatgpt_plus_tools(retriever)\n",
        "\n",
        "agent, memory = create_components_and_return_agent_and_memory(chat_model, tools)\n",
        "\n",
        "agent_executor = create_and_return_agent_executor(agent, tools, memory)"
      ],
      "metadata": {
        "id": "Y82_qAmXE-M0"
      },
      "execution_count": null,
      "outputs": []
    },
    {
      "cell_type": "code",
      "source": [
        "result = agent_executor({\"input\": \"Was kannst du mir über Wien erzählen?\"})"
      ],
      "metadata": {
        "colab": {
          "base_uri": "https://localhost:8080/"
        },
        "id": "Q7fMaYH4F94V",
        "outputId": "e85db9de-ccd3-466b-ac09-09d6a5c390e0"
      },
      "execution_count": null,
      "outputs": [
        {
          "output_type": "stream",
          "name": "stdout",
          "text": [
            "\n",
            "\n",
            "\u001b[1m> Entering new AgentExecutor chain...\u001b[0m\n",
            "\u001b[32;1m\u001b[1;3m\n",
            "Invoking: `bekomm_zusatzinformation` with `{'query': 'Wien'}`\n",
            "\n",
            "\n",
            "\u001b[0m\u001b[36;1m\u001b[1;3m[Document(page_content='Wien (Aussprache [viːn]) anhören ⓘ/? ist die Bundeshauptstadt der Republik Österreich und zugleich \\neines der neun österreichischen Bundesländer. Mit mehr als 2 Millionen Einwohnern (Oktober', metadata={'page': 2, 'source': 'Beispieltext.pdf'}), Document(page_content='Wien (Aussprache [viːn]) anhören ⓘ/? ist die Bundeshauptstadt der Republik Österreich und zugleich \\neines der neun österreichischen Bundesländer. Mit mehr als 2 Millionen Einwohnern (Oktober', metadata={'page': 2, 'source': 'Beispieltext.pdf'}), Document(page_content='bezeichnet. Wien ist eine Großstadt mit sehr hoher Lebensqualität.  \\nBezeichnung  \\nDer Name der Stadt wird stan darddeutsch [vi:n] ausgesprochen. Im bairisch -österreichischen Dialekt', metadata={'page': 2, 'source': 'Beispieltext.pdf'}), Document(page_content='bezeichnet. Wien ist eine Großstadt mit sehr hoher Lebensqualität.  \\nBezeichnung  \\nDer Name der Stadt wird stan darddeutsch [vi:n] ausgesprochen. Im bairisch -österreichischen Dialekt', metadata={'page': 2, 'source': 'Beispieltext.pdf'})]\u001b[0m\u001b[32;1m\u001b[1;3mWien (Aussprache [viːn]) ist die Bundeshauptstadt der Republik Österreich und zugleich eines der neun österreichischen Bundesländer. Mit mehr als 2 Millionen Einwohnern ist Wien eine Großstadt mit sehr hoher Lebensqualität. Der Name der Stadt wird standarddeutsch [vi:n] ausgesprochen. Im bairisch-österreichischen Dialekt wird er [vɪan] ausgesprochen. Wien ist bekannt für seine reiche kulturelle Geschichte, seine prächtige Architektur, seine klassische Musik und sein lebendiges künstlerisches Erbe. Die Stadt ist auch für ihre kulinarischen Genüsse und ihre gemütliche Kaffeehauskultur berühmt.\u001b[0m\n",
            "\n",
            "\u001b[1m> Finished chain.\u001b[0m\n"
          ]
        }
      ]
    }
  ]
}